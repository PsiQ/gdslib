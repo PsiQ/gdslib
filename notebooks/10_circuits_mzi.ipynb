{
 "cells": [
  {
   "cell_type": "markdown",
   "metadata": {},
   "source": [
    "# Circuit simulations\n",
    "\n",
    "Simphony can also chain components into circuits"
   ]
  },
  {
   "cell_type": "code",
   "execution_count": null,
   "metadata": {},
   "outputs": [],
   "source": [
    "import matplotlib.pyplot as plt\n",
    "import pp\n",
    "import gdslib as gl\n",
    "\n",
    "circuit = gl.components.mzi(L0=1, DL=100, L2=10, y_model_factory=gc.mmi1x2)\n",
    "\n",
    "gl.plot_circuit(\n",
    "    circuit,\n",
    "    iport=\"input\",\n",
    "    oport=\"output\",\n",
    "    start=1500e-9,\n",
    "    stop=1600e-9,\n",
    "    logscale=True,\n",
    ")"
   ]
  },
  {
   "cell_type": "code",
   "execution_count": null,
   "metadata": {},
   "outputs": [],
   "source": [
    "circuit_gc = gl.add_gc(circuit)\n",
    "\n",
    "gl.plot_circuit(\n",
    "    circuit_gc,\n",
    "    iport=\"input\",\n",
    "    oport=\"output\",\n",
    "    start=1500e-9,\n",
    "    stop=1600e-9,\n",
    "    logscale=True,\n",
    ")"
   ]
  },
  {
   "cell_type": "markdown",
   "metadata": {},
   "source": [
    "# Montecarlo variation\n",
    "\n",
    "We can also account for montecarlo variations of the circuits"
   ]
  },
  {
   "cell_type": "code",
   "execution_count": null,
   "metadata": {},
   "outputs": [],
   "source": [
    "gl.plot_circuit_montecarlo(\n",
    "    circuit_gc,\n",
    "    iport=\"input\",\n",
    "    oport=\"output\",\n",
    "    start=1500e-9,\n",
    "    stop=1600e-9,\n",
    "    logscale=True,\n",
    "    runs=10\n",
    ")"
   ]
  },
  {
   "cell_type": "code",
   "execution_count": null,
   "metadata": {},
   "outputs": [],
   "source": []
  }
 ],
 "metadata": {
  "kernelspec": {
   "display_name": "Python 3",
   "language": "python",
   "name": "python3"
  },
  "language_info": {
   "codemirror_mode": {
    "name": "ipython",
    "version": 3
   },
   "file_extension": ".py",
   "mimetype": "text/x-python",
   "name": "python",
   "nbconvert_exporter": "python",
   "pygments_lexer": "ipython3",
   "version": "3.7.7"
  }
 },
 "nbformat": 4,
 "nbformat_minor": 4
}
