{
 "cells": [
  {
   "cell_type": "markdown",
   "metadata": {},
   "source": [
    "# EMpy waveguides\n",
    "\n",
    "## SOI waveguide\n",
    "\n",
    "\n",
    "Parameters:\n",
    "\n",
    "- w: 400 .. 448nm\n",
    "- h: 220 (fixed)\n",
    "- T: 25 .. 225 C"
   ]
  },
  {
   "cell_type": "code",
   "execution_count": null,
   "metadata": {},
   "outputs": [],
   "source": [
    "import EMpy\n",
    "import numpy\n",
    "import matplotlib.pyplot as plt\n",
    "\n",
    "wls = numpy.linspace(1.5e-6, 1.6e-6, 1000)\n",
    "SWG = EMpy.devices.SWG(w=488, h=220, T=25).solve(wls)"
   ]
  },
  {
   "cell_type": "code",
   "execution_count": null,
   "metadata": {},
   "outputs": [],
   "source": [
    "plt.plot(wls*1e9, SWG.neff)\n",
    "plt.xlabel('wavelength (nm)')\n",
    "plt.ylabel('neff')"
   ]
  },
  {
   "cell_type": "code",
   "execution_count": null,
   "metadata": {},
   "outputs": [],
   "source": [
    "plt.plot(wls*1e9, SWG.ng)\n",
    "plt.xlabel('wavelength (nm)')\n",
    "plt.ylabel('ng')"
   ]
  },
  {
   "cell_type": "code",
   "execution_count": null,
   "metadata": {},
   "outputs": [],
   "source": [
    "SWG400 = EMpy.devices.SWG(w=400, h=220, T=25).solve(wls)"
   ]
  },
  {
   "cell_type": "code",
   "execution_count": null,
   "metadata": {},
   "outputs": [],
   "source": [
    "plt.plot(wls*1e9, SWG.neff, label='w=488')\n",
    "plt.plot(wls*1e9, SWG400.neff, label='w=400')\n",
    "plt.xlabel('wavelength (nm)')\n",
    "plt.ylabel('neff')\n",
    "plt.legend()"
   ]
  },
  {
   "cell_type": "code",
   "execution_count": null,
   "metadata": {},
   "outputs": [],
   "source": [
    "SWG25 = EMpy.devices.SWG(w=488, h=220, T=25).solve(wls)\n",
    "SWG225 = EMpy.devices.SWG(w=488, h=220, T=225).solve(wls)\n",
    "\n",
    "plt.plot(wls*1e9, SWG25.neff, label='T=25C')\n",
    "plt.plot(wls*1e9, SWG225.neff, label='T=225C')\n",
    "plt.xlabel('wavelength (nm)')\n",
    "plt.ylabel('neff')\n",
    "\n",
    "plt.legend()"
   ]
  }
 ],
 "metadata": {
  "kernelspec": {
   "display_name": "Python 3",
   "language": "python",
   "name": "python3"
  },
  "language_info": {
   "codemirror_mode": {
    "name": "ipython",
    "version": 3
   },
   "file_extension": ".py",
   "mimetype": "text/x-python",
   "name": "python",
   "nbconvert_exporter": "python",
   "pygments_lexer": "ipython3",
   "version": "3.7.7"
  }
 },
 "nbformat": 4,
 "nbformat_minor": 4
}
