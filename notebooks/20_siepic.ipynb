{
 "cells": [
  {
   "cell_type": "markdown",
   "metadata": {},
   "source": [
    "# Siepic components\n",
    "\n",
    "## coupler half ring\n",
    "\n",
    "This half coupler for rings has Sparameters for different settings"
   ]
  },
  {
   "cell_type": "code",
   "execution_count": null,
   "metadata": {},
   "outputs": [],
   "source": [
    "\"\"\"\n",
    "           n2            n4\n",
    "           |             |\n",
    "            \\           /\n",
    "             \\         /\n",
    "           ---=========---  gap\n",
    "        n1  couple_length  n3\n",
    "\"\"\"\n",
    "import matplotlib.pyplot as plt\n",
    "import numpy as np\n",
    "\n",
    "from gdslib.plot_model import plot_model, get_sparameters\n",
    "from simphony.library import siepic\n",
    "\n",
    "c = siepic.ebeam_dc_halfring_straight(\n",
    "        gap=200e-9,\n",
    "        radius=10e-6,\n",
    "        width=500e-9,\n",
    "        thickness=220e-9,\n",
    "        couple_length=0.0)\n",
    "\n",
    "plot_model(c, pins=['n4'])"
   ]
  },
  {
   "cell_type": "markdown",
   "metadata": {},
   "source": [
    "We can sweep the coupler length"
   ]
  },
  {
   "cell_type": "code",
   "execution_count": null,
   "metadata": {},
   "outputs": [],
   "source": [
    "couple_lengths_um = [0, 1, 2, 3]\n",
    "\n",
    "for length_um in couple_lengths_um:\n",
    "    c = siepic.ebeam_dc_halfring_straight(\n",
    "            gap=200e-9,\n",
    "            radius=10e-6,\n",
    "            width=500e-9,\n",
    "            thickness=220e-9,\n",
    "            couple_length=length_um*1e-6)\n",
    "\n",
    "    plot_model(c, pins=['n4'])"
   ]
  },
  {
   "cell_type": "markdown",
   "metadata": {},
   "source": [
    "coupler gap"
   ]
  },
  {
   "cell_type": "code",
   "execution_count": null,
   "metadata": {},
   "outputs": [],
   "source": [
    "coupler_gaps_nm = [150, 200, 250]\n",
    "\n",
    "for coupler_gap_nm in coupler_gaps_nm:\n",
    "    c = siepic.ebeam_dc_halfring_straight(\n",
    "            gap=coupler_gap_nm*1e-9,\n",
    "            radius=10e-6,\n",
    "            width=500e-9,\n",
    "            thickness=220e-9,\n",
    "            couple_length=0)\n",
    "\n",
    "    plot_model(c, pins=['n4'])"
   ]
  },
  {
   "cell_type": "code",
   "execution_count": null,
   "metadata": {},
   "outputs": [],
   "source": []
  }
 ],
 "metadata": {
  "kernelspec": {
   "display_name": "Python 3",
   "language": "python",
   "name": "python3"
  },
  "language_info": {
   "codemirror_mode": {
    "name": "ipython",
    "version": 3
   },
   "file_extension": ".py",
   "mimetype": "text/x-python",
   "name": "python",
   "nbconvert_exporter": "python",
   "pygments_lexer": "ipython3",
   "version": "3.7.7"
  }
 },
 "nbformat": 4,
 "nbformat_minor": 4
}
